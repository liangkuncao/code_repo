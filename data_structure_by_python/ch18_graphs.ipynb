{
 "cells": [
  {
   "cell_type": "code",
   "execution_count": 1,
   "metadata": {},
   "outputs": [],
   "source": [
    "import collections"
   ]
  },
  {
   "cell_type": "code",
   "execution_count": 20,
   "metadata": {},
   "outputs": [],
   "source": [
    "MatchResult = collections.namedtuple('MatchResult', ('winning_team', 'losing_team'))"
   ]
  },
  {
   "cell_type": "code",
   "execution_count": 58,
   "metadata": {},
   "outputs": [],
   "source": [
    "def can_team_a_beat_team_b(matches, team_a, team_b):\n",
    "    def build_graph():\n",
    "        graph = collections.defaultdict(set)\n",
    "        for match in matches:\n",
    "            graph[match.winning_team].add(match.losing_team)\n",
    "        return graph\n",
    "    \n",
    "    def is_reachable(graph, curr, dest, visited=set(), a=list()):\n",
    "        a.append('hello')\n",
    "        print(a)\n",
    "        print(curr)\n",
    "        print(visited)\n",
    "        print('#' * 10)\n",
    "        if curr == dest:\n",
    "            return True\n",
    "        elif curr not in graph or curr in visited:\n",
    "            return False\n",
    "        visited.add(curr)\n",
    "\n",
    "        return any(is_reachable(graph, team, dest) for team in graph[curr])\n",
    "    \n",
    "    return is_reachable(build_graph(), team_a, team_b)"
   ]
  },
  {
   "cell_type": "code",
   "execution_count": 59,
   "metadata": {},
   "outputs": [
    {
     "name": "stdout",
     "output_type": "stream",
     "text": [
      "['hello']\n",
      "a\n",
      "set()\n",
      "##########\n",
      "['hello', 'hello']\n",
      "c\n",
      "{'a'}\n",
      "##########\n",
      "['hello', 'hello', 'hello']\n",
      "b\n",
      "{'a'}\n",
      "##########\n",
      "['hello', 'hello', 'hello', 'hello']\n",
      "a\n",
      "{'a', 'b'}\n",
      "##########\n",
      "['hello', 'hello', 'hello', 'hello', 'hello']\n",
      "d\n",
      "{'a', 'b'}\n",
      "##########\n"
     ]
    },
    {
     "data": {
      "text/plain": [
       "False"
      ]
     },
     "execution_count": 59,
     "metadata": {},
     "output_type": "execute_result"
    }
   ],
   "source": [
    "matches = [MatchResult('a', 'b'), MatchResult('a', 'c'), MatchResult('b', 'd'), MatchResult('b', 'a')]\n",
    "can_team_a_beat_team_b(matches, 'a', 'e')"
   ]
  },
  {
   "cell_type": "code",
   "execution_count": null,
   "metadata": {},
   "outputs": [],
   "source": []
  }
 ],
 "metadata": {
  "kernelspec": {
   "display_name": "Python 3",
   "language": "python",
   "name": "python3"
  },
  "language_info": {
   "codemirror_mode": {
    "name": "ipython",
    "version": 3
   },
   "file_extension": ".py",
   "mimetype": "text/x-python",
   "name": "python",
   "nbconvert_exporter": "python",
   "pygments_lexer": "ipython3",
   "version": "3.7.3"
  }
 },
 "nbformat": 4,
 "nbformat_minor": 2
}
