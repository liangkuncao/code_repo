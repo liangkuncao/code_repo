{
 "cells": [
  {
   "cell_type": "code",
   "execution_count": 15,
   "metadata": {},
   "outputs": [],
   "source": [
    "from functools import reduce\n",
    "import collections"
   ]
  },
  {
   "cell_type": "code",
   "execution_count": 23,
   "metadata": {},
   "outputs": [],
   "source": [
    "def string_hash(s, modulus=1_000_000):\n",
    "    MULT = 997\n",
    "    return reduce(lambda v, c: (v * MULT + ord(c)) % modulus, s, 0)"
   ]
  },
  {
   "cell_type": "code",
   "execution_count": 24,
   "metadata": {},
   "outputs": [
    {
     "name": "stdout",
     "output_type": "stream",
     "text": [
      "485646\n",
      "602497\n",
      "83509\n",
      "65346\n",
      "151052\n",
      "808976\n",
      "533635\n",
      "104795\n",
      "678813\n",
      "719259\n",
      "378817\n",
      "409136\n",
      "688516\n",
      "528643\n",
      "549863\n",
      "878109\n",
      "139495\n",
      "385873\n",
      "775712\n",
      "608587\n",
      "677333\n",
      "491957\n",
      "468721\n",
      "97\n",
      "350497\n",
      "285923\n",
      "871579\n",
      "493950\n",
      "696488\n",
      "527993\n",
      "257061\n",
      "656713\n",
      "529647\n",
      "852359\n",
      "1494\n",
      "115763\n",
      "213455\n",
      "307449\n",
      "312985\n",
      "94109\n",
      "305866\n",
      "577585\n",
      "683548\n",
      "445555\n",
      "319292\n",
      "939700\n",
      "360125\n",
      "487722\n",
      "334182\n",
      "260948\n",
      "735402\n",
      "625553\n",
      "408833\n",
      "413809\n",
      "532632\n",
      "715495\n",
      "602629\n",
      "57 57\n"
     ]
    }
   ],
   "source": [
    "text = \"You are playing the following Bulls and Cows game with your friend: You write down a number and ask your friend to guess what the number is. Each time your friend makes a guess, you provide a hint that indicates how many digits in said guess match your secret number exactly in both digit and position (called 'bulls') and how many digits match the secret number but locate in the wrong position (called 'cows'). Your friend will use successive guesses and hints to eventually derive the secret number.\"\n",
    "hashes = []\n",
    "for word in set(text.split()):\n",
    "    hash_number = string_hash(word)\n",
    "    print(hash_number)\n",
    "    hashes.append(hash_number)\n",
    "print(len(hashes), len(set(hashes)))"
   ]
  },
  {
   "cell_type": "code",
   "execution_count": null,
   "metadata": {},
   "outputs": [],
   "source": []
  },
  {
   "cell_type": "code",
   "execution_count": 18,
   "metadata": {},
   "outputs": [],
   "source": [
    "def find_anagrams(dictionary):\n",
    "    sorted_string_to_anagrams = collections.defaultdict(list)\n",
    "    for s in dictionary:\n",
    "        sorted_string_to_anagrams[''.join(sorted(s))].append(s)\n",
    "    return [group for group in sorted_string_to_anagrams.values() if len(group) >= 2]"
   ]
  },
  {
   "cell_type": "code",
   "execution_count": 20,
   "metadata": {},
   "outputs": [
    {
     "name": "stdout",
     "output_type": "stream",
     "text": [
      "['debitcard', 'elyis', 'silent', 'badcredit', 'lives', 'fteedom', 'listen', 'levis', 'money']\n",
      "[['debitcard', 'badcredit'], ['silent', 'listen'], ['lives', 'levis']]\n"
     ]
    }
   ],
   "source": [
    "inputs = [\"debitcard\", \"elyis\", \"silent\", \"badcredit\", \"lives\", \"fteedom\", \"listen\", \"levis\", \"money\"]\n",
    "print(inputs)\n",
    "print(find_anagrams(inputs))"
   ]
  },
  {
   "cell_type": "code",
   "execution_count": null,
   "metadata": {},
   "outputs": [],
   "source": []
  },
  {
   "cell_type": "code",
   "execution_count": 25,
   "metadata": {},
   "outputs": [],
   "source": [
    "class ContactList:\n",
    "    def __init__(self, names):\n",
    "        self.names = names\n",
    "    \n",
    "    def __hash__(self):\n",
    "        return hash(frozenset(self.names))\n",
    "    \n",
    "    def __eq__(self, other):\n",
    "        return set(self.names) == set(other.names)"
   ]
  },
  {
   "cell_type": "code",
   "execution_count": 26,
   "metadata": {},
   "outputs": [],
   "source": [
    "def merge_contact_lists(contacts):\n",
    "    \"\"\"\n",
    "    contacts is a list of ContactList\n",
    "    \"\"\"\n",
    "    return list(set(contacts))\n",
    "    "
   ]
  },
  {
   "cell_type": "code",
   "execution_count": null,
   "metadata": {},
   "outputs": [],
   "source": []
  },
  {
   "cell_type": "code",
   "execution_count": 27,
   "metadata": {},
   "outputs": [],
   "source": [
    "c = collections.Counter(a=3, b=1)\n",
    "d = collections.Counter(a=1, b=2)"
   ]
  },
  {
   "cell_type": "code",
   "execution_count": 28,
   "metadata": {},
   "outputs": [
    {
     "data": {
      "text/plain": [
       "Counter({'a': 4, 'b': 3})"
      ]
     },
     "execution_count": 28,
     "metadata": {},
     "output_type": "execute_result"
    }
   ],
   "source": [
    "c + d"
   ]
  },
  {
   "cell_type": "code",
   "execution_count": 29,
   "metadata": {},
   "outputs": [
    {
     "data": {
      "text/plain": [
       "Counter({'a': 2})"
      ]
     },
     "execution_count": 29,
     "metadata": {},
     "output_type": "execute_result"
    }
   ],
   "source": [
    "c - d"
   ]
  },
  {
   "cell_type": "code",
   "execution_count": 31,
   "metadata": {},
   "outputs": [
    {
     "data": {
      "text/plain": [
       "Counter({'a': 1, 'b': 1})"
      ]
     },
     "execution_count": 31,
     "metadata": {},
     "output_type": "execute_result"
    }
   ],
   "source": [
    "c & d"
   ]
  },
  {
   "cell_type": "code",
   "execution_count": 32,
   "metadata": {},
   "outputs": [
    {
     "data": {
      "text/plain": [
       "Counter({'a': 3, 'b': 2})"
      ]
     },
     "execution_count": 32,
     "metadata": {},
     "output_type": "execute_result"
    }
   ],
   "source": [
    "c | d"
   ]
  },
  {
   "cell_type": "code",
   "execution_count": null,
   "metadata": {},
   "outputs": [],
   "source": []
  }
 ],
 "metadata": {
  "kernelspec": {
   "display_name": "Python 3",
   "language": "python",
   "name": "python3"
  },
  "language_info": {
   "codemirror_mode": {
    "name": "ipython",
    "version": 3
   },
   "file_extension": ".py",
   "mimetype": "text/x-python",
   "name": "python",
   "nbconvert_exporter": "python",
   "pygments_lexer": "ipython3",
   "version": "3.7.3"
  }
 },
 "nbformat": 4,
 "nbformat_minor": 2
}
