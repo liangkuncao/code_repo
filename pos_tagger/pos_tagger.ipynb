{
 "cells": [
  {
   "cell_type": "code",
   "execution_count": 1,
   "metadata": {},
   "outputs": [
    {
     "name": "stdout",
     "output_type": "stream",
     "text": [
      "18978 54\n"
     ]
    }
   ],
   "source": [
    "tag2id, id2tag = {}, {}\n",
    "word2id, id2word = {}, {}\n",
    "\n",
    "for line in open('traindata.txt'):\n",
    "    items = line.split('/')\n",
    "    word, tag = items[0], items[1].rstrip()\n",
    "    \n",
    "    if word not in word2id:\n",
    "        word2id[word] = len(word2id)\n",
    "        id2word[len(id2word)] = word\n",
    "    if tag not in tag2id:\n",
    "        tag2id[tag] = len(tag2id)\n",
    "        id2tag[len(id2tag)] = tag\n",
    "        \n",
    "M = len(word2id)\n",
    "N = len(tag2id)\n",
    "print(M, N)"
   ]
  },
  {
   "cell_type": "code",
   "execution_count": 2,
   "metadata": {},
   "outputs": [
    {
     "name": "stdout",
     "output_type": "stream",
     "text": [
      "{'Newsweek': 0, ',': 1, 'trying': 2, 'to': 3, 'keep': 4, 'pace': 5, 'with': 6, 'rival': 7, 'Time': 8, 'magazine': 9}\n",
      "##########\n",
      "{'NNP': 0, ',': 1, 'VBG': 2, 'TO': 3, 'VB': 4, 'NN': 5, 'IN': 6, 'JJ': 7, 'VBD': 8, 'NNS': 9}\n"
     ]
    }
   ],
   "source": [
    "print({key: value for key, value in word2id.items() if value < 10})\n",
    "print('#' * 10)\n",
    "print({key: value for key, value in tag2id.items() if value < 10})"
   ]
  },
  {
   "cell_type": "code",
   "execution_count": 3,
   "metadata": {},
   "outputs": [],
   "source": [
    "import numpy as np\n",
    "pi = np.zeros(N)\n",
    "A = np.zeros((N, M))\n",
    "B = np.zeros((N, N))"
   ]
  },
  {
   "cell_type": "code",
   "execution_count": 4,
   "metadata": {},
   "outputs": [],
   "source": [
    "prev_tag = ''\n",
    "for line in open('traindata.txt'):\n",
    "    items = line.split('/')\n",
    "    word_id, tag_id = word2id[items[0]], tag2id[items[1].rstrip()]\n",
    "    if prev_tag == '':\n",
    "        pi[tag_id] += 1\n",
    "        A[tag_id][word_id] += 1\n",
    "    else:\n",
    "        A[tag_id][word_id] += 1\n",
    "        B[tag2id[prev_tag]][tag_id] += 1\n",
    "    if items[0] == '.':\n",
    "        prev_tag = ''\n",
    "    else:\n",
    "        prev_tag = items[1].rstrip()\n",
    "\n",
    "pi /= sum(pi)\n",
    "for i in range(N):\n",
    "    A[i] /= sum(A[i])\n",
    "    B[i] /= sum(B[i])"
   ]
  },
  {
   "cell_type": "code",
   "execution_count": 5,
   "metadata": {},
   "outputs": [
    {
     "name": "stdout",
     "output_type": "stream",
     "text": [
      "[1.81324111e-01 0.00000000e+00 1.00049407e-02 3.33498024e-03\n",
      " 3.95256917e-03 3.68083004e-02 1.11660079e-01 3.66847826e-02\n",
      " 6.17588933e-04 3.81669960e-02 8.76976285e-03 5.18774704e-02\n",
      " 6.02766798e-02 2.47035573e-04 2.17267787e-01 0.00000000e+00\n",
      " 1.48221344e-03 6.05237154e-03 8.64624506e-04 2.47035573e-04\n",
      " 0.00000000e+00 4.73073123e-02 0.00000000e+00 7.16403162e-03\n",
      " 1.72924901e-03 2.09980237e-03 7.53458498e-02 6.36116601e-02\n",
      " 2.59387352e-03 1.85276680e-03 5.92885375e-03 1.97628458e-03\n",
      " 2.84090909e-03 0.00000000e+00 0.00000000e+00 2.71739130e-03\n",
      " 5.92885375e-03 5.92885375e-03 9.88142292e-04 3.70553360e-04\n",
      " 1.23517787e-04 0.00000000e+00 0.00000000e+00 1.85276680e-03\n",
      " 0.00000000e+00 0.00000000e+00 0.00000000e+00 0.00000000e+00\n",
      " 0.00000000e+00 0.00000000e+00 0.00000000e+00 0.00000000e+00\n",
      " 0.00000000e+00 0.00000000e+00]\n",
      "##########\n",
      "[[5.16155673e-04 0.00000000e+00 0.00000000e+00 ... 5.16155673e-05\n",
      "  0.00000000e+00 0.00000000e+00]\n",
      " [0.00000000e+00 9.99801725e-01 0.00000000e+00 ... 0.00000000e+00\n",
      "  0.00000000e+00 0.00000000e+00]\n",
      " [0.00000000e+00 0.00000000e+00 1.45846544e-02 ... 0.00000000e+00\n",
      "  0.00000000e+00 0.00000000e+00]\n",
      " ...\n",
      " [0.00000000e+00 0.00000000e+00 0.00000000e+00 ... 0.00000000e+00\n",
      "  0.00000000e+00 0.00000000e+00]\n",
      " [0.00000000e+00 0.00000000e+00 0.00000000e+00 ... 0.00000000e+00\n",
      "  0.00000000e+00 0.00000000e+00]\n",
      " [0.00000000e+00 0.00000000e+00 0.00000000e+00 ... 0.00000000e+00\n",
      "  0.00000000e+00 0.00000000e+00]]\n",
      "##########\n",
      "[[0.37911634 0.14189119 0.00129039 ... 0.         0.         0.        ]\n",
      " [0.13274512 0.         0.0452067  ... 0.         0.         0.        ]\n",
      " [0.03709575 0.0142676  0.00475587 ... 0.         0.         0.        ]\n",
      " ...\n",
      " [0.         0.         0.5        ... 0.         0.         0.        ]\n",
      " [0.         0.         0.         ... 0.         0.         0.        ]\n",
      " [0.         0.         0.         ... 0.         0.         0.        ]]\n"
     ]
    }
   ],
   "source": [
    "print(pi)\n",
    "print('#' * 10)\n",
    "print(A)\n",
    "print('#' * 10)\n",
    "print(B)"
   ]
  },
  {
   "cell_type": "code",
   "execution_count": 8,
   "metadata": {},
   "outputs": [],
   "source": [
    "def log(v):\n",
    "    if v == 0:\n",
    "        return np.log(v + 0.0000001)\n",
    "    return np.log(v)"
   ]
  },
  {
   "cell_type": "code",
   "execution_count": 11,
   "metadata": {},
   "outputs": [],
   "source": [
    "def viterbi(x, pi, A, B):\n",
    "    \"\"\"\n",
    "    x: user input string/sentence\n",
    "    pi: initial probability of tags\n",
    "    A: \n",
    "    \"\"\"\n",
    "    x = [word2id[word] for word in x.split(' ')]\n",
    "    T = len(x)\n",
    "    dp = np.zeros((T, N)) # dp[i][j], i is number of word, j is the number of tag\n",
    "    pointer = np.array([[0 for x in range(N)] for y in range(T)])\n",
    "    for j in range(N): # basecase\n",
    "        dp[0][j] = log(pi[j]) + log(A[j][x[0]])\n",
    "    for i in range(1, T): # loop words\n",
    "        for j in range(N): # loop tags\n",
    "            dp[i][j] = -float('inf')\n",
    "            for k in range(N): # loop through last word's tag\n",
    "                score = dp[i - 1][k] + log(B[k][j]) + log(A[j][x[i]])\n",
    "                if score > dp[i][j]:\n",
    "                    dp[i][k] = score\n",
    "                    pointer[i][j] = k\n",
    "    best_seq = [0] * T\n",
    "    best_seq[T - 1] = np.argmax(dp[T - 1])\n",
    "    for i in range(T - 2, -1, -1):\n",
    "        best_seq[i] = pointer[i + 1][best_seq[i + 1]]\n",
    "    for i in range(len(best_seq)):\n",
    "        print(id2tag[i])"
   ]
  },
  {
   "cell_type": "code",
   "execution_count": 12,
   "metadata": {},
   "outputs": [
    {
     "name": "stdout",
     "output_type": "stream",
     "text": [
      "NNP\n",
      ",\n",
      "VBG\n",
      "TO\n",
      "VB\n",
      "NN\n",
      "IN\n",
      "JJ\n",
      "VBD\n",
      "NNS\n",
      "CD\n",
      "CC\n",
      "PRP\n",
      "MD\n",
      "DT\n"
     ]
    }
   ],
   "source": [
    "x = \"Social Security number , passport number and details about the services provided for the payment\"\n",
    "viterbi(x, pi, A, B)"
   ]
  },
  {
   "cell_type": "code",
   "execution_count": null,
   "metadata": {},
   "outputs": [],
   "source": []
  }
 ],
 "metadata": {
  "kernelspec": {
   "display_name": "Python 3",
   "language": "python",
   "name": "python3"
  },
  "language_info": {
   "codemirror_mode": {
    "name": "ipython",
    "version": 3
   },
   "file_extension": ".py",
   "mimetype": "text/x-python",
   "name": "python",
   "nbconvert_exporter": "python",
   "pygments_lexer": "ipython3",
   "version": "3.7.3"
  }
 },
 "nbformat": 4,
 "nbformat_minor": 2
}
