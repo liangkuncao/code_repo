{
 "cells": [
  {
   "cell_type": "code",
   "execution_count": 13,
   "metadata": {},
   "outputs": [],
   "source": [
    "from functools import reduce\n",
    "import collections"
   ]
  },
  {
   "cell_type": "code",
   "execution_count": 14,
   "metadata": {},
   "outputs": [],
   "source": [
    "def string_hash(s, modulus=1_000_000):\n",
    "    MULT = 997\n",
    "    return reduce(lambda v, c: (v * MULT + ord(c)) % modulus, s, 0)"
   ]
  },
  {
   "cell_type": "code",
   "execution_count": 16,
   "metadata": {},
   "outputs": [],
   "source": [
    "text = \"You are playing the following Bulls and Cows game with your friend: You write down a number and ask your friend to guess what the number is. Each time your friend makes a guess, you provide a hint that indicates how many digits in said guess match your secret number exactly in both digit and position (called 'bulls') and how many digits match the secret number but locate in the wrong position (called 'cows'). Your friend will use successive guesses and hints to eventually derive the secret number.\"\n",
    "hashes = []\n",
    "for word in set(text.split()):\n",
    "    hash_number = string_hash(word)\n",
    "    hashes.append(hash_number)\n"
   ]
  },
  {
   "cell_type": "code",
   "execution_count": null,
   "metadata": {},
   "outputs": [],
   "source": []
  },
  {
   "cell_type": "code",
   "execution_count": 4,
   "metadata": {},
   "outputs": [],
   "source": [
    "def find_anagrams(dictionary):\n",
    "    sorted_string_to_anagrams = collections.defaultdict(list)\n",
    "    for s in dictionary:\n",
    "        sorted_string_to_anagrams[''.join(sorted(s))].append(s)\n",
    "    return [group for group in sorted_string_to_anagrams.values() if len(group) >= 2]"
   ]
  },
  {
   "cell_type": "code",
   "execution_count": 5,
   "metadata": {},
   "outputs": [
    {
     "name": "stdout",
     "output_type": "stream",
     "text": [
      "['debitcard', 'elyis', 'silent', 'badcredit', 'lives', 'fteedom', 'listen', 'levis', 'money']\n",
      "[['debitcard', 'badcredit'], ['silent', 'listen'], ['lives', 'levis']]\n"
     ]
    }
   ],
   "source": [
    "inputs = [\"debitcard\", \"elyis\", \"silent\", \"badcredit\", \"lives\", \"fteedom\", \"listen\", \"levis\", \"money\"]\n",
    "print(inputs)\n",
    "print(find_anagrams(inputs))"
   ]
  },
  {
   "cell_type": "code",
   "execution_count": null,
   "metadata": {},
   "outputs": [],
   "source": []
  },
  {
   "cell_type": "code",
   "execution_count": 6,
   "metadata": {},
   "outputs": [],
   "source": [
    "class ContactList:\n",
    "    def __init__(self, names):\n",
    "        self.names = names\n",
    "    \n",
    "    def __hash__(self):\n",
    "        return hash(frozenset(self.names))\n",
    "    \n",
    "    def __eq__(self, other):\n",
    "        return set(self.names) == set(other.names)"
   ]
  },
  {
   "cell_type": "code",
   "execution_count": 7,
   "metadata": {},
   "outputs": [],
   "source": [
    "def merge_contact_lists(contacts):\n",
    "    \"\"\"\n",
    "    contacts is a list of ContactList\n",
    "    \"\"\"\n",
    "    return list(set(contacts))\n",
    "    "
   ]
  },
  {
   "cell_type": "code",
   "execution_count": null,
   "metadata": {},
   "outputs": [],
   "source": []
  },
  {
   "cell_type": "code",
   "execution_count": 8,
   "metadata": {},
   "outputs": [],
   "source": [
    "c = collections.Counter(a=3, b=1)\n",
    "d = collections.Counter(a=1, b=2)"
   ]
  },
  {
   "cell_type": "code",
   "execution_count": 9,
   "metadata": {},
   "outputs": [
    {
     "data": {
      "text/plain": [
       "Counter({'a': 4, 'b': 3})"
      ]
     },
     "execution_count": 9,
     "metadata": {},
     "output_type": "execute_result"
    }
   ],
   "source": [
    "c + d"
   ]
  },
  {
   "cell_type": "code",
   "execution_count": 10,
   "metadata": {},
   "outputs": [
    {
     "data": {
      "text/plain": [
       "Counter({'a': 2})"
      ]
     },
     "execution_count": 10,
     "metadata": {},
     "output_type": "execute_result"
    }
   ],
   "source": [
    "c - d"
   ]
  },
  {
   "cell_type": "code",
   "execution_count": 11,
   "metadata": {},
   "outputs": [
    {
     "data": {
      "text/plain": [
       "Counter({'a': 1, 'b': 1})"
      ]
     },
     "execution_count": 11,
     "metadata": {},
     "output_type": "execute_result"
    }
   ],
   "source": [
    "c & d"
   ]
  },
  {
   "cell_type": "code",
   "execution_count": 12,
   "metadata": {},
   "outputs": [
    {
     "data": {
      "text/plain": [
       "Counter({'a': 3, 'b': 2})"
      ]
     },
     "execution_count": 12,
     "metadata": {},
     "output_type": "execute_result"
    }
   ],
   "source": [
    "c | d"
   ]
  },
  {
   "cell_type": "code",
   "execution_count": null,
   "metadata": {},
   "outputs": [],
   "source": []
  },
  {
   "cell_type": "markdown",
   "metadata": {},
   "source": [
    "can a word be palindrome"
   ]
  },
  {
   "cell_type": "code",
   "execution_count": 17,
   "metadata": {},
   "outputs": [],
   "source": [
    "def can_form_palindrome(s):\n",
    "    return sum(v % 2 for v in collections.Counter(s).values()) <= 1"
   ]
  },
  {
   "cell_type": "code",
   "execution_count": 19,
   "metadata": {},
   "outputs": [
    {
     "name": "stdout",
     "output_type": "stream",
     "text": [
      "True\n",
      "True\n"
     ]
    }
   ],
   "source": [
    "print(can_form_palindrome('deified'))\n",
    "print(can_form_palindrome('edified'))"
   ]
  },
  {
   "cell_type": "code",
   "execution_count": null,
   "metadata": {},
   "outputs": [],
   "source": []
  }
 ],
 "metadata": {
  "kernelspec": {
   "display_name": "Python 3",
   "language": "python",
   "name": "python3"
  },
  "language_info": {
   "codemirror_mode": {
    "name": "ipython",
    "version": 3
   },
   "file_extension": ".py",
   "mimetype": "text/x-python",
   "name": "python",
   "nbconvert_exporter": "python",
   "pygments_lexer": "ipython3",
   "version": "3.7.3"
  }
 },
 "nbformat": 4,
 "nbformat_minor": 2
}
